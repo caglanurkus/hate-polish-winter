{
  "metadata": {
    "kernelspec": {
      "name": "python",
      "display_name": "Python (Pyodide)",
      "language": "python"
    },
    "language_info": {
      "codemirror_mode": {
        "name": "python",
        "version": 3
      },
      "file_extension": ".py",
      "mimetype": "text/x-python",
      "name": "python",
      "nbconvert_exporter": "python",
      "pygments_lexer": "ipython3",
      "version": "3.8"
    }
  },
  "nbformat_minor": 4,
  "nbformat": 4,
  "cells": [
    {
      "cell_type": "code",
      "source": "def find_max_value(numbers):\n    if not numbers:\n        return None\n    else: \n        return max(numbers)",
      "metadata": {
        "trusted": true
      },
      "outputs": [],
      "execution_count": 7
    },
    {
      "cell_type": "code",
      "source": "myNumbers = [30, 11, 49, 15, 56, 86, 24, 62]\nmaxValue = find_max_value(myNumbers)",
      "metadata": {
        "trusted": true
      },
      "outputs": [],
      "execution_count": 8
    },
    {
      "cell_type": "code",
      "source": "if maxValue is not None:\n    print(\"The maximum value is:\", maxValue)\nelse:\n    print(\"The list is empty.\")",
      "metadata": {
        "trusted": true
      },
      "outputs": [
        {
          "name": "stdout",
          "text": "The maximum value is: 86\n",
          "output_type": "stream"
        }
      ],
      "execution_count": 9
    }
  ]
}